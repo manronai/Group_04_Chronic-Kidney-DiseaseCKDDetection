{
  "nbformat": 4,
  "nbformat_minor": 0,
  "metadata": {
    "colab": {
      "provenance": []
    },
    "kernelspec": {
      "name": "python3",
      "display_name": "Python 3"
    },
    "language_info": {
      "name": "python"
    }
  },
  "cells": [
    {
      "cell_type": "code",
      "execution_count": 63,
      "metadata": {
        "id": "o1ed8dSxikWh"
      },
      "outputs": [],
      "source": [
        "import pandas as pd"
      ]
    },
    {
      "cell_type": "code",
      "source": [
        "from google.colab import drive\n",
        "drive.mount('/content/drive')\n",
        "\n",
        "df = pd.read_csv(r'/content/drive/MyDrive/Dataset/merged_data_rbc_column_preprocessed_with_index.csv')\n",
        "#df\n",
        "\n",
        "ckd = df.loc[df['classification'] == 'ckd']\n",
        "#ckd\n",
        "\n",
        "not_ckd = df.loc[df['classification'] == 'notckd']\n",
        "#not_ckd"
      ],
      "metadata": {
        "colab": {
          "base_uri": "https://localhost:8080/"
        },
        "id": "E2zCfxgqjf_J",
        "outputId": "c789e305-4cd2-4b87-df06-49380294a9a4"
      },
      "execution_count": 64,
      "outputs": [
        {
          "output_type": "stream",
          "name": "stdout",
          "text": [
            "Drive already mounted at /content/drive; to attempt to forcibly remount, call drive.mount(\"/content/drive\", force_remount=True).\n"
          ]
        }
      ]
    },
    {
      "cell_type": "code",
      "source": [
        "ckd.iloc[ -10: -1]\n",
        "df.shape[1]\n"
      ],
      "metadata": {
        "colab": {
          "base_uri": "https://localhost:8080/"
        },
        "id": "oO6P-sTwkSHe",
        "outputId": "10e5404b-3b8e-40d6-f524-b203f699fca6"
      },
      "execution_count": 65,
      "outputs": [
        {
          "output_type": "execute_result",
          "data": {
            "text/plain": [
              "27"
            ]
          },
          "metadata": {},
          "execution_count": 65
        }
      ]
    },
    {
      "cell_type": "code",
      "source": [
        "ckd['age'].isnull().sum()"
      ],
      "metadata": {
        "colab": {
          "base_uri": "https://localhost:8080/"
        },
        "id": "CfebUVJupEC0",
        "outputId": "120323c5-16f1-4b68-9c1f-f18754b14643"
      },
      "execution_count": 66,
      "outputs": [
        {
          "output_type": "execute_result",
          "data": {
            "text/plain": [
              "8"
            ]
          },
          "metadata": {},
          "execution_count": 66
        }
      ]
    },
    {
      "cell_type": "code",
      "source": [
        "age_mean = ckd['age'].mean()\n",
        "ckd_dataframe = pd.DataFrame(ckd)\n",
        "ckd_dataframe['age'].fillna(age_mean, inplace=True)"
      ],
      "metadata": {
        "id": "kyIHprD4pPXw"
      },
      "execution_count": 67,
      "outputs": []
    },
    {
      "cell_type": "code",
      "source": [
        "ckd_dataframe['age'].isnull().sum()"
      ],
      "metadata": {
        "colab": {
          "base_uri": "https://localhost:8080/"
        },
        "id": "GG5_kUmaqB5f",
        "outputId": "8a254b74-7403-41ae-8e90-edb5824fb730"
      },
      "execution_count": 68,
      "outputs": [
        {
          "output_type": "execute_result",
          "data": {
            "text/plain": [
              "0"
            ]
          },
          "metadata": {},
          "execution_count": 68
        }
      ]
    },
    {
      "cell_type": "code",
      "source": [
        "age_mean = not_ckd['age'].mean()\n",
        "not_ckd_dataframe = pd.DataFrame(not_ckd)\n",
        "not_ckd_dataframe['age'].fillna(age_mean, inplace=True)\n"
      ],
      "metadata": {
        "id": "zKx8l5kSqGFy"
      },
      "execution_count": 69,
      "outputs": []
    },
    {
      "cell_type": "code",
      "source": [
        "merge_df = pd.concat([ckd_dataframe, not_ckd_dataframe], ignore_index=True)\n"
      ],
      "metadata": {
        "id": "hVWxR4MZqVZE"
      },
      "execution_count": 70,
      "outputs": []
    },
    {
      "cell_type": "code",
      "source": [
        "merge_df['age'].isnull().sum()"
      ],
      "metadata": {
        "colab": {
          "base_uri": "https://localhost:8080/"
        },
        "id": "JEQLWjO5qrmv",
        "outputId": "62dd6f80-3c4a-445c-8a57-22af28bce623"
      },
      "execution_count": 71,
      "outputs": [
        {
          "output_type": "execute_result",
          "data": {
            "text/plain": [
              "0"
            ]
          },
          "metadata": {},
          "execution_count": 71
        }
      ]
    },
    {
      "cell_type": "code",
      "source": [
        "merge_df.to_csv('merged_data_age_column_preprocessed_with_index.csv', index=True)"
      ],
      "metadata": {
        "id": "3Z_7YWSDqy8Q"
      },
      "execution_count": 72,
      "outputs": []
    },
    {
      "cell_type": "markdown",
      "source": [
        "BP preprocessing starts from here."
      ],
      "metadata": {
        "id": "q5R8DFwpsGZp"
      }
    },
    {
      "cell_type": "code",
      "source": [
        "ckd['bp'].shape"
      ],
      "metadata": {
        "colab": {
          "base_uri": "https://localhost:8080/"
        },
        "id": "-v8fKRpisT1m",
        "outputId": "08a09dbd-af16-4f89-9573-c385d343f98d"
      },
      "execution_count": 73,
      "outputs": [
        {
          "output_type": "execute_result",
          "data": {
            "text/plain": [
              "(248,)"
            ]
          },
          "metadata": {},
          "execution_count": 73
        }
      ]
    },
    {
      "cell_type": "code",
      "source": [
        "print('ckd bp mean:',ckd['bp'].mean())\n",
        "print('not_ckd bp mean:',not_ckd['bp'].mean())"
      ],
      "metadata": {
        "colab": {
          "base_uri": "https://localhost:8080/"
        },
        "id": "dFNRdh0_sQdg",
        "outputId": "a4be6bf9-aa55-40dd-bb26-7ab7d4d03349"
      },
      "execution_count": 74,
      "outputs": [
        {
          "output_type": "stream",
          "name": "stdout",
          "text": [
            "ckd bp mean: 79.70588235294117\n",
            "not_ckd bp mean: 71.35135135135135\n"
          ]
        }
      ]
    },
    {
      "cell_type": "code",
      "source": [
        "bp_mean_ckd= ckd['bp'].mean()\n",
        "print(bp_mean_ckd)\n",
        "above_mean = ckd[ckd['bp'] > bp_mean_ckd]\n",
        "below_mean = ckd[ckd['bp'] < bp_mean_ckd]\n",
        "print(below_mean.shape[0])\n",
        "print(above_mean.shape[0])"
      ],
      "metadata": {
        "colab": {
          "base_uri": "https://localhost:8080/"
        },
        "id": "iDyQaa6OtfAf",
        "outputId": "3836dfca-3b94-4e0b-93f4-2faacbf55bff"
      },
      "execution_count": 75,
      "outputs": [
        {
          "output_type": "stream",
          "name": "stdout",
          "text": [
            "79.70588235294117\n",
            "104\n",
            "134\n"
          ]
        }
      ]
    },
    {
      "cell_type": "code",
      "source": [
        "above_mean"
      ],
      "metadata": {
        "colab": {
          "base_uri": "https://localhost:8080/",
          "height": 424
        },
        "id": "M0Jd-25moGtP",
        "outputId": "45ccfad2-6030-4e71-edb5-c14d3a9688f1"
      },
      "execution_count": 76,
      "outputs": [
        {
          "output_type": "execute_result",
          "data": {
            "text/plain": [
              "     Unnamed: 0   id   age     bp     sg   al   su       rbc        pc  \\\n",
              "0             0    0  48.0   80.0  1.020  1.0  0.0    normal    normal   \n",
              "2             2    2  62.0   80.0  1.010  2.0  3.0    normal    normal   \n",
              "4             4    4  51.0   80.0  1.010  2.0  0.0    normal    normal   \n",
              "5             5    5  60.0   90.0  1.015  3.0  0.0    normal       NaN   \n",
              "8             8    8  52.0  100.0  1.015  3.0  0.0    normal  abnormal   \n",
              "..          ...  ...   ...    ...    ...  ...  ...       ...       ...   \n",
              "242         242  244  64.0   90.0  1.015  3.0  2.0    normal  abnormal   \n",
              "243         243  245  48.0  100.0    NaN  NaN  NaN    normal       NaN   \n",
              "244         244  246  48.0  110.0  1.015  3.0  0.0  abnormal    normal   \n",
              "245         245  247  54.0   90.0  1.025  1.0  0.0    normal  abnormal   \n",
              "247         247  249  56.0   90.0  1.010  4.0  1.0    normal  abnormal   \n",
              "\n",
              "            pcc  ...  pcv    wc   rc  htn   dm  cad  appet   pe  ane  \\\n",
              "0    notpresent  ...   44  7800  5.2  yes  yes   no   good   no   no   \n",
              "2    notpresent  ...   31  7500  NaN   no  yes   no   poor   no  yes   \n",
              "4    notpresent  ...   35  7300  4.6   no   no   no   good   no   no   \n",
              "5    notpresent  ...   39  7800  4.4  yes  yes   no   good  yes   no   \n",
              "8       present  ...   33  9600  4.0  yes  yes   no   good   no  yes   \n",
              "..          ...  ...  ...   ...  ...  ...  ...  ...    ...  ...  ...   \n",
              "242     present  ...   40  9800  4.6  yes  yes   no   good   no  yes   \n",
              "243  notpresent  ...   19  7200  2.6  yes   no  yes   poor   no   no   \n",
              "244     present  ...   26  5000  2.5  yes   no  yes   good   no  yes   \n",
              "245  notpresent  ...  NaN   NaN  NaN   no   no   no   poor  yes  yes   \n",
              "247     present  ...    9  5400  2.1  yes  yes   no   poor  yes  yes   \n",
              "\n",
              "    classification  \n",
              "0              ckd  \n",
              "2              ckd  \n",
              "4              ckd  \n",
              "5              ckd  \n",
              "8              ckd  \n",
              "..             ...  \n",
              "242            ckd  \n",
              "243            ckd  \n",
              "244            ckd  \n",
              "245            ckd  \n",
              "247            ckd  \n",
              "\n",
              "[134 rows x 27 columns]"
            ],
            "text/html": [
              "\n",
              "  <div id=\"df-4996e878-5840-4018-b0c2-118b985d1500\">\n",
              "    <div class=\"colab-df-container\">\n",
              "      <div>\n",
              "<style scoped>\n",
              "    .dataframe tbody tr th:only-of-type {\n",
              "        vertical-align: middle;\n",
              "    }\n",
              "\n",
              "    .dataframe tbody tr th {\n",
              "        vertical-align: top;\n",
              "    }\n",
              "\n",
              "    .dataframe thead th {\n",
              "        text-align: right;\n",
              "    }\n",
              "</style>\n",
              "<table border=\"1\" class=\"dataframe\">\n",
              "  <thead>\n",
              "    <tr style=\"text-align: right;\">\n",
              "      <th></th>\n",
              "      <th>Unnamed: 0</th>\n",
              "      <th>id</th>\n",
              "      <th>age</th>\n",
              "      <th>bp</th>\n",
              "      <th>sg</th>\n",
              "      <th>al</th>\n",
              "      <th>su</th>\n",
              "      <th>rbc</th>\n",
              "      <th>pc</th>\n",
              "      <th>pcc</th>\n",
              "      <th>...</th>\n",
              "      <th>pcv</th>\n",
              "      <th>wc</th>\n",
              "      <th>rc</th>\n",
              "      <th>htn</th>\n",
              "      <th>dm</th>\n",
              "      <th>cad</th>\n",
              "      <th>appet</th>\n",
              "      <th>pe</th>\n",
              "      <th>ane</th>\n",
              "      <th>classification</th>\n",
              "    </tr>\n",
              "  </thead>\n",
              "  <tbody>\n",
              "    <tr>\n",
              "      <th>0</th>\n",
              "      <td>0</td>\n",
              "      <td>0</td>\n",
              "      <td>48.0</td>\n",
              "      <td>80.0</td>\n",
              "      <td>1.020</td>\n",
              "      <td>1.0</td>\n",
              "      <td>0.0</td>\n",
              "      <td>normal</td>\n",
              "      <td>normal</td>\n",
              "      <td>notpresent</td>\n",
              "      <td>...</td>\n",
              "      <td>44</td>\n",
              "      <td>7800</td>\n",
              "      <td>5.2</td>\n",
              "      <td>yes</td>\n",
              "      <td>yes</td>\n",
              "      <td>no</td>\n",
              "      <td>good</td>\n",
              "      <td>no</td>\n",
              "      <td>no</td>\n",
              "      <td>ckd</td>\n",
              "    </tr>\n",
              "    <tr>\n",
              "      <th>2</th>\n",
              "      <td>2</td>\n",
              "      <td>2</td>\n",
              "      <td>62.0</td>\n",
              "      <td>80.0</td>\n",
              "      <td>1.010</td>\n",
              "      <td>2.0</td>\n",
              "      <td>3.0</td>\n",
              "      <td>normal</td>\n",
              "      <td>normal</td>\n",
              "      <td>notpresent</td>\n",
              "      <td>...</td>\n",
              "      <td>31</td>\n",
              "      <td>7500</td>\n",
              "      <td>NaN</td>\n",
              "      <td>no</td>\n",
              "      <td>yes</td>\n",
              "      <td>no</td>\n",
              "      <td>poor</td>\n",
              "      <td>no</td>\n",
              "      <td>yes</td>\n",
              "      <td>ckd</td>\n",
              "    </tr>\n",
              "    <tr>\n",
              "      <th>4</th>\n",
              "      <td>4</td>\n",
              "      <td>4</td>\n",
              "      <td>51.0</td>\n",
              "      <td>80.0</td>\n",
              "      <td>1.010</td>\n",
              "      <td>2.0</td>\n",
              "      <td>0.0</td>\n",
              "      <td>normal</td>\n",
              "      <td>normal</td>\n",
              "      <td>notpresent</td>\n",
              "      <td>...</td>\n",
              "      <td>35</td>\n",
              "      <td>7300</td>\n",
              "      <td>4.6</td>\n",
              "      <td>no</td>\n",
              "      <td>no</td>\n",
              "      <td>no</td>\n",
              "      <td>good</td>\n",
              "      <td>no</td>\n",
              "      <td>no</td>\n",
              "      <td>ckd</td>\n",
              "    </tr>\n",
              "    <tr>\n",
              "      <th>5</th>\n",
              "      <td>5</td>\n",
              "      <td>5</td>\n",
              "      <td>60.0</td>\n",
              "      <td>90.0</td>\n",
              "      <td>1.015</td>\n",
              "      <td>3.0</td>\n",
              "      <td>0.0</td>\n",
              "      <td>normal</td>\n",
              "      <td>NaN</td>\n",
              "      <td>notpresent</td>\n",
              "      <td>...</td>\n",
              "      <td>39</td>\n",
              "      <td>7800</td>\n",
              "      <td>4.4</td>\n",
              "      <td>yes</td>\n",
              "      <td>yes</td>\n",
              "      <td>no</td>\n",
              "      <td>good</td>\n",
              "      <td>yes</td>\n",
              "      <td>no</td>\n",
              "      <td>ckd</td>\n",
              "    </tr>\n",
              "    <tr>\n",
              "      <th>8</th>\n",
              "      <td>8</td>\n",
              "      <td>8</td>\n",
              "      <td>52.0</td>\n",
              "      <td>100.0</td>\n",
              "      <td>1.015</td>\n",
              "      <td>3.0</td>\n",
              "      <td>0.0</td>\n",
              "      <td>normal</td>\n",
              "      <td>abnormal</td>\n",
              "      <td>present</td>\n",
              "      <td>...</td>\n",
              "      <td>33</td>\n",
              "      <td>9600</td>\n",
              "      <td>4.0</td>\n",
              "      <td>yes</td>\n",
              "      <td>yes</td>\n",
              "      <td>no</td>\n",
              "      <td>good</td>\n",
              "      <td>no</td>\n",
              "      <td>yes</td>\n",
              "      <td>ckd</td>\n",
              "    </tr>\n",
              "    <tr>\n",
              "      <th>...</th>\n",
              "      <td>...</td>\n",
              "      <td>...</td>\n",
              "      <td>...</td>\n",
              "      <td>...</td>\n",
              "      <td>...</td>\n",
              "      <td>...</td>\n",
              "      <td>...</td>\n",
              "      <td>...</td>\n",
              "      <td>...</td>\n",
              "      <td>...</td>\n",
              "      <td>...</td>\n",
              "      <td>...</td>\n",
              "      <td>...</td>\n",
              "      <td>...</td>\n",
              "      <td>...</td>\n",
              "      <td>...</td>\n",
              "      <td>...</td>\n",
              "      <td>...</td>\n",
              "      <td>...</td>\n",
              "      <td>...</td>\n",
              "      <td>...</td>\n",
              "    </tr>\n",
              "    <tr>\n",
              "      <th>242</th>\n",
              "      <td>242</td>\n",
              "      <td>244</td>\n",
              "      <td>64.0</td>\n",
              "      <td>90.0</td>\n",
              "      <td>1.015</td>\n",
              "      <td>3.0</td>\n",
              "      <td>2.0</td>\n",
              "      <td>normal</td>\n",
              "      <td>abnormal</td>\n",
              "      <td>present</td>\n",
              "      <td>...</td>\n",
              "      <td>40</td>\n",
              "      <td>9800</td>\n",
              "      <td>4.6</td>\n",
              "      <td>yes</td>\n",
              "      <td>yes</td>\n",
              "      <td>no</td>\n",
              "      <td>good</td>\n",
              "      <td>no</td>\n",
              "      <td>yes</td>\n",
              "      <td>ckd</td>\n",
              "    </tr>\n",
              "    <tr>\n",
              "      <th>243</th>\n",
              "      <td>243</td>\n",
              "      <td>245</td>\n",
              "      <td>48.0</td>\n",
              "      <td>100.0</td>\n",
              "      <td>NaN</td>\n",
              "      <td>NaN</td>\n",
              "      <td>NaN</td>\n",
              "      <td>normal</td>\n",
              "      <td>NaN</td>\n",
              "      <td>notpresent</td>\n",
              "      <td>...</td>\n",
              "      <td>19</td>\n",
              "      <td>7200</td>\n",
              "      <td>2.6</td>\n",
              "      <td>yes</td>\n",
              "      <td>no</td>\n",
              "      <td>yes</td>\n",
              "      <td>poor</td>\n",
              "      <td>no</td>\n",
              "      <td>no</td>\n",
              "      <td>ckd</td>\n",
              "    </tr>\n",
              "    <tr>\n",
              "      <th>244</th>\n",
              "      <td>244</td>\n",
              "      <td>246</td>\n",
              "      <td>48.0</td>\n",
              "      <td>110.0</td>\n",
              "      <td>1.015</td>\n",
              "      <td>3.0</td>\n",
              "      <td>0.0</td>\n",
              "      <td>abnormal</td>\n",
              "      <td>normal</td>\n",
              "      <td>present</td>\n",
              "      <td>...</td>\n",
              "      <td>26</td>\n",
              "      <td>5000</td>\n",
              "      <td>2.5</td>\n",
              "      <td>yes</td>\n",
              "      <td>no</td>\n",
              "      <td>yes</td>\n",
              "      <td>good</td>\n",
              "      <td>no</td>\n",
              "      <td>yes</td>\n",
              "      <td>ckd</td>\n",
              "    </tr>\n",
              "    <tr>\n",
              "      <th>245</th>\n",
              "      <td>245</td>\n",
              "      <td>247</td>\n",
              "      <td>54.0</td>\n",
              "      <td>90.0</td>\n",
              "      <td>1.025</td>\n",
              "      <td>1.0</td>\n",
              "      <td>0.0</td>\n",
              "      <td>normal</td>\n",
              "      <td>abnormal</td>\n",
              "      <td>notpresent</td>\n",
              "      <td>...</td>\n",
              "      <td>NaN</td>\n",
              "      <td>NaN</td>\n",
              "      <td>NaN</td>\n",
              "      <td>no</td>\n",
              "      <td>no</td>\n",
              "      <td>no</td>\n",
              "      <td>poor</td>\n",
              "      <td>yes</td>\n",
              "      <td>yes</td>\n",
              "      <td>ckd</td>\n",
              "    </tr>\n",
              "    <tr>\n",
              "      <th>247</th>\n",
              "      <td>247</td>\n",
              "      <td>249</td>\n",
              "      <td>56.0</td>\n",
              "      <td>90.0</td>\n",
              "      <td>1.010</td>\n",
              "      <td>4.0</td>\n",
              "      <td>1.0</td>\n",
              "      <td>normal</td>\n",
              "      <td>abnormal</td>\n",
              "      <td>present</td>\n",
              "      <td>...</td>\n",
              "      <td>9</td>\n",
              "      <td>5400</td>\n",
              "      <td>2.1</td>\n",
              "      <td>yes</td>\n",
              "      <td>yes</td>\n",
              "      <td>no</td>\n",
              "      <td>poor</td>\n",
              "      <td>yes</td>\n",
              "      <td>yes</td>\n",
              "      <td>ckd</td>\n",
              "    </tr>\n",
              "  </tbody>\n",
              "</table>\n",
              "<p>134 rows × 27 columns</p>\n",
              "</div>\n",
              "      <button class=\"colab-df-convert\" onclick=\"convertToInteractive('df-4996e878-5840-4018-b0c2-118b985d1500')\"\n",
              "              title=\"Convert this dataframe to an interactive table.\"\n",
              "              style=\"display:none;\">\n",
              "        \n",
              "  <svg xmlns=\"http://www.w3.org/2000/svg\" height=\"24px\"viewBox=\"0 0 24 24\"\n",
              "       width=\"24px\">\n",
              "    <path d=\"M0 0h24v24H0V0z\" fill=\"none\"/>\n",
              "    <path d=\"M18.56 5.44l.94 2.06.94-2.06 2.06-.94-2.06-.94-.94-2.06-.94 2.06-2.06.94zm-11 1L8.5 8.5l.94-2.06 2.06-.94-2.06-.94L8.5 2.5l-.94 2.06-2.06.94zm10 10l.94 2.06.94-2.06 2.06-.94-2.06-.94-.94-2.06-.94 2.06-2.06.94z\"/><path d=\"M17.41 7.96l-1.37-1.37c-.4-.4-.92-.59-1.43-.59-.52 0-1.04.2-1.43.59L10.3 9.45l-7.72 7.72c-.78.78-.78 2.05 0 2.83L4 21.41c.39.39.9.59 1.41.59.51 0 1.02-.2 1.41-.59l7.78-7.78 2.81-2.81c.8-.78.8-2.07 0-2.86zM5.41 20L4 18.59l7.72-7.72 1.47 1.35L5.41 20z\"/>\n",
              "  </svg>\n",
              "      </button>\n",
              "      \n",
              "  <style>\n",
              "    .colab-df-container {\n",
              "      display:flex;\n",
              "      flex-wrap:wrap;\n",
              "      gap: 12px;\n",
              "    }\n",
              "\n",
              "    .colab-df-convert {\n",
              "      background-color: #E8F0FE;\n",
              "      border: none;\n",
              "      border-radius: 50%;\n",
              "      cursor: pointer;\n",
              "      display: none;\n",
              "      fill: #1967D2;\n",
              "      height: 32px;\n",
              "      padding: 0 0 0 0;\n",
              "      width: 32px;\n",
              "    }\n",
              "\n",
              "    .colab-df-convert:hover {\n",
              "      background-color: #E2EBFA;\n",
              "      box-shadow: 0px 1px 2px rgba(60, 64, 67, 0.3), 0px 1px 3px 1px rgba(60, 64, 67, 0.15);\n",
              "      fill: #174EA6;\n",
              "    }\n",
              "\n",
              "    [theme=dark] .colab-df-convert {\n",
              "      background-color: #3B4455;\n",
              "      fill: #D2E3FC;\n",
              "    }\n",
              "\n",
              "    [theme=dark] .colab-df-convert:hover {\n",
              "      background-color: #434B5C;\n",
              "      box-shadow: 0px 1px 3px 1px rgba(0, 0, 0, 0.15);\n",
              "      filter: drop-shadow(0px 1px 2px rgba(0, 0, 0, 0.3));\n",
              "      fill: #FFFFFF;\n",
              "    }\n",
              "  </style>\n",
              "\n",
              "      <script>\n",
              "        const buttonEl =\n",
              "          document.querySelector('#df-4996e878-5840-4018-b0c2-118b985d1500 button.colab-df-convert');\n",
              "        buttonEl.style.display =\n",
              "          google.colab.kernel.accessAllowed ? 'block' : 'none';\n",
              "\n",
              "        async function convertToInteractive(key) {\n",
              "          const element = document.querySelector('#df-4996e878-5840-4018-b0c2-118b985d1500');\n",
              "          const dataTable =\n",
              "            await google.colab.kernel.invokeFunction('convertToInteractive',\n",
              "                                                     [key], {});\n",
              "          if (!dataTable) return;\n",
              "\n",
              "          const docLinkHtml = 'Like what you see? Visit the ' +\n",
              "            '<a target=\"_blank\" href=https://colab.research.google.com/notebooks/data_table.ipynb>data table notebook</a>'\n",
              "            + ' to learn more about interactive tables.';\n",
              "          element.innerHTML = '';\n",
              "          dataTable['output_type'] = 'display_data';\n",
              "          await google.colab.output.renderOutput(dataTable, element);\n",
              "          const docLink = document.createElement('div');\n",
              "          docLink.innerHTML = docLinkHtml;\n",
              "          element.appendChild(docLink);\n",
              "        }\n",
              "      </script>\n",
              "    </div>\n",
              "  </div>\n",
              "  "
            ]
          },
          "metadata": {},
          "execution_count": 76
        }
      ]
    },
    {
      "cell_type": "code",
      "source": [
        "ckd['bp'].std()"
      ],
      "metadata": {
        "colab": {
          "base_uri": "https://localhost:8080/"
        },
        "id": "E1T-YZ6Jw3SF",
        "outputId": "0c081796-f277-430e-8ecb-b8ee972ec917"
      },
      "execution_count": 77,
      "outputs": [
        {
          "output_type": "execute_result",
          "data": {
            "text/plain": [
              "15.244755861793223"
            ]
          },
          "metadata": {},
          "execution_count": 77
        }
      ]
    },
    {
      "cell_type": "code",
      "source": [
        "above_mean = ckd[ckd['bp'] > bp_mean_ckd]\n",
        "print(bp_mean_ckd)\n",
        "x = above_mean['bp']-bp_mean_ckd\n",
        "print(x.mean())\n",
        "y = (below_mean['bp']-bp_mean_ckd)*-1\n",
        "print(y.mean())\n",
        "below_mean['bp'].iloc[ :20]"
      ],
      "metadata": {
        "colab": {
          "base_uri": "https://localhost:8080/"
        },
        "id": "sgQlN2pGxEan",
        "outputId": "2e0afd63-dbb2-4802-bdbd-baa1db4b3e27"
      },
      "execution_count": 78,
      "outputs": [
        {
          "output_type": "stream",
          "name": "stdout",
          "text": [
            "79.70588235294117\n",
            "10.14486391571554\n",
            "13.071266968325789\n"
          ]
        },
        {
          "output_type": "execute_result",
          "data": {
            "text/plain": [
              "1     50.0\n",
              "3     70.0\n",
              "6     70.0\n",
              "10    60.0\n",
              "11    70.0\n",
              "12    70.0\n",
              "13    70.0\n",
              "16    70.0\n",
              "19    60.0\n",
              "23    70.0\n",
              "25    60.0\n",
              "27    70.0\n",
              "28    70.0\n",
              "29    70.0\n",
              "30    70.0\n",
              "34    70.0\n",
              "36    70.0\n",
              "40    70.0\n",
              "45    70.0\n",
              "47    70.0\n",
              "Name: bp, dtype: float64"
            ]
          },
          "metadata": {},
          "execution_count": 78
        }
      ]
    },
    {
      "cell_type": "code",
      "source": [
        "bp_mean_not_ckd = not_ckd['bp'].mean()\n",
        "above_mean = not_ckd[not_ckd['bp'] > bp_mean_not_ckd]\n",
        "below_mean = not_ckd[not_ckd['bp'] < bp_mean_not_ckd]\n",
        "print(below_mean.shape[0])\n",
        "print(above_mean.shape[0])"
      ],
      "metadata": {
        "colab": {
          "base_uri": "https://localhost:8080/"
        },
        "id": "lleSa4DYuqQm",
        "outputId": "dfd5a44a-98b3-4342-b22f-53f6bb9fa8d4"
      },
      "execution_count": 79,
      "outputs": [
        {
          "output_type": "stream",
          "name": "stdout",
          "text": [
            "83\n",
            "65\n"
          ]
        }
      ]
    },
    {
      "cell_type": "code",
      "source": [
        "not_ckd['bp'].std()"
      ],
      "metadata": {
        "colab": {
          "base_uri": "https://localhost:8080/"
        },
        "id": "ncmbzAFHw9US",
        "outputId": "d5c748ce-4b86-47a9-d703-5f99db7a141c"
      },
      "execution_count": 80,
      "outputs": [
        {
          "output_type": "execute_result",
          "data": {
            "text/plain": [
              "8.5434980368491"
            ]
          },
          "metadata": {},
          "execution_count": 80
        }
      ]
    },
    {
      "cell_type": "code",
      "source": [
        "above_mean = ckd[ckd['bp'] > bp_mean_ckd]\n",
        "print(bp_mean_ckd)\n",
        "x = above_mean['bp']-bp_mean_ckd\n",
        "print(x.mean())\n",
        "y = (below_mean['bp']-bp_mean_ckd)*-1\n",
        "print(y.mean())\n",
        "below_mean['bp'].iloc[ :20]"
      ],
      "metadata": {
        "id": "XAuFyRdH0yQb",
        "colab": {
          "base_uri": "https://localhost:8080/"
        },
        "outputId": "6d02d7da-2ec9-4674-c4c6-31e5730373c9"
      },
      "execution_count": 81,
      "outputs": [
        {
          "output_type": "stream",
          "name": "stdout",
          "text": [
            "79.70588235294117\n",
            "10.14486391571554\n",
            "15.127569099929124\n"
          ]
        },
        {
          "output_type": "execute_result",
          "data": {
            "text/plain": [
              "252    60.0\n",
              "255    60.0\n",
              "274    60.0\n",
              "275    60.0\n",
              "276    60.0\n",
              "277    70.0\n",
              "280    70.0\n",
              "281    70.0\n",
              "283    70.0\n",
              "284    70.0\n",
              "285    70.0\n",
              "286    70.0\n",
              "287    70.0\n",
              "288    70.0\n",
              "292    60.0\n",
              "293    70.0\n",
              "294    70.0\n",
              "295    60.0\n",
              "296    60.0\n",
              "297    60.0\n",
              "Name: bp, dtype: float64"
            ]
          },
          "metadata": {},
          "execution_count": 81
        }
      ]
    },
    {
      "cell_type": "code",
      "source": [
        "\n",
        "\n",
        "ckd_dataframe['bp'].fillna(ckd_dataframe['bp'].mean(), inplace=True)\n",
        "not_ckd_dataframe['bp'].fillna(not_ckd_dataframe['bp'].mean(), inplace=True)\n",
        "\n"
      ],
      "metadata": {
        "id": "K73T3mMa6V1-"
      },
      "execution_count": 82,
      "outputs": []
    },
    {
      "cell_type": "code",
      "source": [
        "not_ckd_dataframe['bp'].isnull().sum()"
      ],
      "metadata": {
        "colab": {
          "base_uri": "https://localhost:8080/"
        },
        "id": "Eo322DVT7D0t",
        "outputId": "c424cb45-918d-43d8-a254-5dab8295b595"
      },
      "execution_count": 83,
      "outputs": [
        {
          "output_type": "execute_result",
          "data": {
            "text/plain": [
              "0"
            ]
          },
          "metadata": {},
          "execution_count": 83
        }
      ]
    },
    {
      "cell_type": "code",
      "source": [
        "#remove null from sg\n",
        "ckd_dataframe['sg'].fillna(ckd_dataframe['sg'].mean(), inplace=True)\n",
        "not_ckd_dataframe['sg'].fillna(not_ckd_dataframe['sg'].mean(), inplace=True)\n",
        "#remove null from al\n",
        "ckd_dataframe['al'].fillna(ckd_dataframe['al'].mean(), inplace=True)\n",
        "not_ckd_dataframe['al'].fillna(not_ckd_dataframe['al'].mean(), inplace=True)\n",
        "#remove null from su\n",
        "ckd_dataframe['su'].fillna(ckd_dataframe['su'].mean(), inplace=True)\n",
        "not_ckd_dataframe['su'].fillna(not_ckd_dataframe['su'].mean(), inplace=True)\n"
      ],
      "metadata": {
        "id": "MQX3mfxr7M59"
      },
      "execution_count": 84,
      "outputs": []
    },
    {
      "cell_type": "code",
      "source": [
        "print(ckd.head(5))\n",
        "print(ckd.columns.tolist()[-16:-7])"
      ],
      "metadata": {
        "colab": {
          "base_uri": "https://localhost:8080/"
        },
        "id": "5sYdqoDP8ZYd",
        "outputId": "b9420a7f-65bc-4c4f-ed06-c3f6c1a03d0e"
      },
      "execution_count": 85,
      "outputs": [
        {
          "output_type": "stream",
          "name": "stdout",
          "text": [
            "   Unnamed: 0  id   age    bp     sg   al   su     rbc        pc         pcc  \\\n",
            "0           0   0  48.0  80.0  1.020  1.0  0.0  normal    normal  notpresent   \n",
            "1           1   1   7.0  50.0  1.020  4.0  0.0  normal    normal  notpresent   \n",
            "2           2   2  62.0  80.0  1.010  2.0  3.0  normal    normal  notpresent   \n",
            "3           3   3  48.0  70.0  1.005  4.0  0.0  normal  abnormal     present   \n",
            "4           4   4  51.0  80.0  1.010  2.0  0.0  normal    normal  notpresent   \n",
            "\n",
            "   ... pcv    wc   rc  htn   dm  cad  appet   pe  ane classification  \n",
            "0  ...  44  7800  5.2  yes  yes   no   good   no   no            ckd  \n",
            "1  ...  38  6000  NaN   no   no   no   good   no   no            ckd  \n",
            "2  ...  31  7500  NaN   no  yes   no   poor   no  yes            ckd  \n",
            "3  ...  32  6700  3.9  yes   no   no   poor  yes  yes            ckd  \n",
            "4  ...  35  7300  4.6   no   no   no   good   no   no            ckd  \n",
            "\n",
            "[5 rows x 27 columns]\n",
            "['bgr', 'bu', 'sc', 'sod', 'pot', 'hemo', 'pcv', 'wc', 'rc']\n"
          ]
        }
      ]
    },
    {
      "cell_type": "code",
      "source": [
        "columns_to_print = ['bgr', 'bu', 'sc', 'sod', 'pot', 'hemo', 'pcv', 'wc', 'rc']\n",
        "print(ckd[columns_to_print].head(5))"
      ],
      "metadata": {
        "colab": {
          "base_uri": "https://localhost:8080/"
        },
        "id": "ZocSu1w_9LH6",
        "outputId": "88ea9549-599a-4bf5-b926-ed49e319d061"
      },
      "execution_count": 86,
      "outputs": [
        {
          "output_type": "stream",
          "name": "stdout",
          "text": [
            "     bgr    bu   sc    sod  pot  hemo pcv    wc   rc\n",
            "0  121.0  36.0  1.2    NaN  NaN  15.4  44  7800  5.2\n",
            "1    NaN  18.0  0.8    NaN  NaN  11.3  38  6000  NaN\n",
            "2  423.0  53.0  1.8    NaN  NaN   9.6  31  7500  NaN\n",
            "3  117.0  56.0  3.8  111.0  2.5  11.2  32  6700  3.9\n",
            "4  106.0  26.0  1.4    NaN  NaN  11.6  35  7300  4.6\n"
          ]
        }
      ]
    },
    {
      "cell_type": "code",
      "source": [
        "print(ckd['pcv'].dtype)"
      ],
      "metadata": {
        "colab": {
          "base_uri": "https://localhost:8080/"
        },
        "id": "-5zVugjp_YEV",
        "outputId": "da7cd309-79a3-46ac-fad6-a3470ebfbd1c"
      },
      "execution_count": 87,
      "outputs": [
        {
          "output_type": "stream",
          "name": "stdout",
          "text": [
            "object\n"
          ]
        }
      ]
    },
    {
      "cell_type": "markdown",
      "source": [
        "['bgr', 'bu', 'sc', 'sod', 'pot', 'hemo'] columns update code starts from here."
      ],
      "metadata": {
        "id": "TWWnuBui_9_5"
      }
    },
    {
      "cell_type": "code",
      "source": [
        "columns_to_fill = ['bgr', 'bu', 'sc', 'sod', 'pot', 'hemo', 'pcv', 'wc', 'rc']\n",
        "\n",
        "for i, column in enumerate(columns_to_fill):\n",
        "    print(column, ckd[column].dtype)\n",
        ""
      ],
      "metadata": {
        "colab": {
          "base_uri": "https://localhost:8080/"
        },
        "id": "ZPDRxrOG-G9E",
        "outputId": "eca4956b-aad4-4581-fa7e-5821acab3645"
      },
      "execution_count": 88,
      "outputs": [
        {
          "output_type": "stream",
          "name": "stdout",
          "text": [
            "bgr float64\n",
            "bu float64\n",
            "sc float64\n",
            "sod float64\n",
            "pot float64\n",
            "hemo float64\n",
            "pcv object\n",
            "wc object\n",
            "rc object\n"
          ]
        }
      ]
    },
    {
      "cell_type": "code",
      "source": [
        "columns_to_fill = ['bgr', 'bu', 'sc', 'sod', 'pot', 'hemo']\n",
        "\n",
        "for i, column in enumerate(columns_to_fill):\n",
        "    column_mean = ckd_dataframe[column].mean()\n",
        "    ckd_dataframe[column].fillna(column_mean, inplace=True)"
      ],
      "metadata": {
        "id": "0dm5198E_vI2"
      },
      "execution_count": 89,
      "outputs": []
    },
    {
      "cell_type": "code",
      "source": [
        "\n",
        "type(ckd['pcv'].iloc[1]).__name__"
      ],
      "metadata": {
        "colab": {
          "base_uri": "https://localhost:8080/",
          "height": 35
        },
        "id": "FxE_0wbVXrXE",
        "outputId": "2410be70-2686-4b68-8437-838da5a86fd9"
      },
      "execution_count": 90,
      "outputs": [
        {
          "output_type": "execute_result",
          "data": {
            "text/plain": [
              "'str'"
            ],
            "application/vnd.google.colaboratory.intrinsic+json": {
              "type": "string"
            }
          },
          "metadata": {},
          "execution_count": 90
        }
      ]
    },
    {
      "cell_type": "code",
      "source": [
        "#starting updating pcv wc rc"
      ],
      "metadata": {
        "id": "pYJt6UFaanxw"
      },
      "execution_count": 91,
      "outputs": []
    },
    {
      "cell_type": "code",
      "source": [
        "columns_to_fill = ['pcv', 'wc', 'rc']\n",
        "\n",
        "for i, column in enumerate(columns_to_fill):\n",
        "\n",
        "\n",
        "    ckd_dataframe[column].fillna('0', inplace=True)\n",
        "\n",
        "\n",
        "\n"
      ],
      "metadata": {
        "id": "DKaF7Wzia3GM"
      },
      "execution_count": 92,
      "outputs": []
    },
    {
      "cell_type": "code",
      "source": [
        "ckd_dataframe['pcv'] = ckd_dataframe['pcv'].str.replace('?', '0')\n",
        "ckd_dataframe['pcv'] = ckd_dataframe['pcv'].str.strip()\n"
      ],
      "metadata": {
        "colab": {
          "base_uri": "https://localhost:8080/"
        },
        "id": "vy7L021YcwNd",
        "outputId": "3ddc4c38-a5a6-48b9-887a-7272a8fe094e"
      },
      "execution_count": 93,
      "outputs": [
        {
          "output_type": "stream",
          "name": "stderr",
          "text": [
            "<ipython-input-93-206abcf6090c>:1: FutureWarning: The default value of regex will change from True to False in a future version. In addition, single character regular expressions will *not* be treated as literal strings when regex=True.\n",
            "  ckd_dataframe['pcv'] = ckd_dataframe['pcv'].str.replace('?', '0')\n"
          ]
        }
      ]
    },
    {
      "cell_type": "code",
      "source": [
        "ckd_dataframe['wc'] = ckd_dataframe['wc'].str.replace('?', '0')\n",
        "ckd_dataframe['wc'] = ckd_dataframe['wc'].str.strip()\n"
      ],
      "metadata": {
        "colab": {
          "base_uri": "https://localhost:8080/"
        },
        "id": "ZRukaWvZgdub",
        "outputId": "e99775a7-8caf-4e63-ec07-a21dd0e9ac15"
      },
      "execution_count": 94,
      "outputs": [
        {
          "output_type": "stream",
          "name": "stderr",
          "text": [
            "<ipython-input-94-2f37b2795e6f>:1: FutureWarning: The default value of regex will change from True to False in a future version. In addition, single character regular expressions will *not* be treated as literal strings when regex=True.\n",
            "  ckd_dataframe['wc'] = ckd_dataframe['wc'].str.replace('?', '0')\n"
          ]
        }
      ]
    },
    {
      "cell_type": "code",
      "source": [
        "ckd_dataframe['rc'] = ckd_dataframe['rc'].str.replace('?', '0')\n",
        "ckd_dataframe['rc'] = ckd_dataframe['rc'].str.strip()\n"
      ],
      "metadata": {
        "colab": {
          "base_uri": "https://localhost:8080/"
        },
        "id": "HTbXCymWgwu4",
        "outputId": "29507f1b-4c49-47c6-a19b-ec52c4509ef4"
      },
      "execution_count": 95,
      "outputs": [
        {
          "output_type": "stream",
          "name": "stderr",
          "text": [
            "<ipython-input-95-1e27a03ec414>:1: FutureWarning: The default value of regex will change from True to False in a future version. In addition, single character regular expressions will *not* be treated as literal strings when regex=True.\n",
            "  ckd_dataframe['rc'] = ckd_dataframe['rc'].str.replace('?', '0')\n"
          ]
        }
      ]
    },
    {
      "cell_type": "code",
      "source": [
        "ckd_dataframe['pcv'] =ckd_dataframe['pcv'].astype(float)"
      ],
      "metadata": {
        "id": "tcyxYYFnd_Bc"
      },
      "execution_count": 96,
      "outputs": []
    },
    {
      "cell_type": "code",
      "source": [
        "ckd_dataframe['wc'] =ckd_dataframe['wc'].astype(float)"
      ],
      "metadata": {
        "id": "YYwZIw3cgIVN"
      },
      "execution_count": 97,
      "outputs": []
    },
    {
      "cell_type": "code",
      "source": [
        "ckd_dataframe['rc'] =ckd_dataframe['rc'].astype(float)"
      ],
      "metadata": {
        "id": "bYGBX44kg3Bu"
      },
      "execution_count": 98,
      "outputs": []
    },
    {
      "cell_type": "code",
      "source": [
        "columns_to_fill = ['pcv', 'wc', 'rc']\n",
        "\n",
        "for i, column in enumerate(columns_to_fill):\n",
        "\n",
        "\n",
        "    ckd_mean = ckd_dataframe[column].mean()\n",
        "    ckd_dataframe.loc[ckd_dataframe[column]==0, column] = ckd_mean\n",
        "\n"
      ],
      "metadata": {
        "id": "U7Y3ZMwAfW3q"
      },
      "execution_count": 99,
      "outputs": []
    },
    {
      "cell_type": "code",
      "source": [
        "string_columns = ckd.select_dtypes(include=['object']).columns\n"
      ],
      "metadata": {
        "id": "QgA3h_4ViV-S"
      },
      "execution_count": 100,
      "outputs": []
    },
    {
      "cell_type": "code",
      "source": [
        "string_columns\n",
        "\n"
      ],
      "metadata": {
        "colab": {
          "base_uri": "https://localhost:8080/"
        },
        "id": "vDg-9MYQiYHo",
        "outputId": "152afb99-5b24-4aec-9b35-3d03533a30e8"
      },
      "execution_count": 101,
      "outputs": [
        {
          "output_type": "execute_result",
          "data": {
            "text/plain": [
              "Index(['rbc', 'pc', 'pcc', 'ba', 'htn', 'dm', 'cad', 'appet', 'pe', 'ane',\n",
              "       'classification'],\n",
              "      dtype='object')"
            ]
          },
          "metadata": {},
          "execution_count": 101
        }
      ]
    },
    {
      "cell_type": "code",
      "source": [
        "ckd.columns.tolist()"
      ],
      "metadata": {
        "colab": {
          "base_uri": "https://localhost:8080/"
        },
        "id": "fa9qCTRJiZqV",
        "outputId": "b46041f6-abcc-4e32-cac7-6114ac082954"
      },
      "execution_count": 102,
      "outputs": [
        {
          "output_type": "execute_result",
          "data": {
            "text/plain": [
              "['Unnamed: 0',\n",
              " 'id',\n",
              " 'age',\n",
              " 'bp',\n",
              " 'sg',\n",
              " 'al',\n",
              " 'su',\n",
              " 'rbc',\n",
              " 'pc',\n",
              " 'pcc',\n",
              " 'ba',\n",
              " 'bgr',\n",
              " 'bu',\n",
              " 'sc',\n",
              " 'sod',\n",
              " 'pot',\n",
              " 'hemo',\n",
              " 'pcv',\n",
              " 'wc',\n",
              " 'rc',\n",
              " 'htn',\n",
              " 'dm',\n",
              " 'cad',\n",
              " 'appet',\n",
              " 'pe',\n",
              " 'ane',\n",
              " 'classification']"
            ]
          },
          "metadata": {},
          "execution_count": 102
        }
      ]
    },
    {
      "cell_type": "code",
      "source": [
        "ckd_dataframe.describe()"
      ],
      "metadata": {
        "colab": {
          "base_uri": "https://localhost:8080/",
          "height": 382
        },
        "id": "mq4JUSlYr7SU",
        "outputId": "15c599eb-5b77-45fe-fdaf-55f40a416180"
      },
      "execution_count": 37,
      "outputs": [
        {
          "output_type": "execute_result",
          "data": {
            "text/plain": [
              "       Unnamed: 0          id         age          bp          sg          al  \\\n",
              "count  248.000000  248.000000  248.000000  248.000000  248.000000  248.000000   \n",
              "mean   123.500000  124.427419   54.425000   79.705882    1.013937    1.721154   \n",
              "std     71.735626   72.079429   17.127132   14.932969    0.004228    1.259501   \n",
              "min      0.000000    0.000000    2.000000   50.000000    1.005000    0.000000   \n",
              "25%     61.750000   62.750000   47.750000   70.000000    1.010000    1.000000   \n",
              "50%    123.500000  124.500000   58.500000   80.000000    1.013937    1.721154   \n",
              "75%    185.250000  186.250000   65.000000   90.000000    1.015000    3.000000   \n",
              "max    247.000000  249.000000   90.000000  180.000000    1.025000    5.000000   \n",
              "\n",
              "               su         bgr          bu          sc         sod         pot  \\\n",
              "count  248.000000  248.000000  248.000000  248.000000  248.000000  248.000000   \n",
              "mean     0.770732  175.523810   72.656170    4.430720  133.882530    4.883030   \n",
              "std      1.227592   85.065928   57.156729    6.805612   10.185319    3.542576   \n",
              "min      0.000000   22.000000    1.500000    0.500000    4.500000    2.500000   \n",
              "25%      0.000000  110.750000   32.000000    1.500000  133.882530    4.100000   \n",
              "50%      0.000000  165.000000   55.000000    2.450000  133.882530    4.883030   \n",
              "75%      0.770732  210.750000   90.000000    4.430720  137.000000    4.883030   \n",
              "max      5.000000  490.000000  391.000000   76.000000  163.000000   47.000000   \n",
              "\n",
              "             hemo         pcv            wc          rc  \n",
              "count  248.000000  248.000000    248.000000  248.000000  \n",
              "mean    10.652217   30.632154   7634.067703    2.983491  \n",
              "std      1.980642    7.299847   3306.096988    1.156298  \n",
              "min      3.100000    9.000000   2200.000000    1.994355  \n",
              "25%      9.800000   24.193548   5456.048387    1.994355  \n",
              "50%     10.652217   30.000000   5800.000000    2.100000  \n",
              "75%     11.800000   36.000000   9600.000000    3.900000  \n",
              "max     16.100000   52.000000  26400.000000    8.000000  "
            ],
            "text/html": [
              "\n",
              "  <div id=\"df-e08fae1f-6f0e-4eff-a7db-aca5b1dec959\">\n",
              "    <div class=\"colab-df-container\">\n",
              "      <div>\n",
              "<style scoped>\n",
              "    .dataframe tbody tr th:only-of-type {\n",
              "        vertical-align: middle;\n",
              "    }\n",
              "\n",
              "    .dataframe tbody tr th {\n",
              "        vertical-align: top;\n",
              "    }\n",
              "\n",
              "    .dataframe thead th {\n",
              "        text-align: right;\n",
              "    }\n",
              "</style>\n",
              "<table border=\"1\" class=\"dataframe\">\n",
              "  <thead>\n",
              "    <tr style=\"text-align: right;\">\n",
              "      <th></th>\n",
              "      <th>Unnamed: 0</th>\n",
              "      <th>id</th>\n",
              "      <th>age</th>\n",
              "      <th>bp</th>\n",
              "      <th>sg</th>\n",
              "      <th>al</th>\n",
              "      <th>su</th>\n",
              "      <th>bgr</th>\n",
              "      <th>bu</th>\n",
              "      <th>sc</th>\n",
              "      <th>sod</th>\n",
              "      <th>pot</th>\n",
              "      <th>hemo</th>\n",
              "      <th>pcv</th>\n",
              "      <th>wc</th>\n",
              "      <th>rc</th>\n",
              "    </tr>\n",
              "  </thead>\n",
              "  <tbody>\n",
              "    <tr>\n",
              "      <th>count</th>\n",
              "      <td>248.000000</td>\n",
              "      <td>248.000000</td>\n",
              "      <td>248.000000</td>\n",
              "      <td>248.000000</td>\n",
              "      <td>248.000000</td>\n",
              "      <td>248.000000</td>\n",
              "      <td>248.000000</td>\n",
              "      <td>248.000000</td>\n",
              "      <td>248.000000</td>\n",
              "      <td>248.000000</td>\n",
              "      <td>248.000000</td>\n",
              "      <td>248.000000</td>\n",
              "      <td>248.000000</td>\n",
              "      <td>248.000000</td>\n",
              "      <td>248.000000</td>\n",
              "      <td>248.000000</td>\n",
              "    </tr>\n",
              "    <tr>\n",
              "      <th>mean</th>\n",
              "      <td>123.500000</td>\n",
              "      <td>124.427419</td>\n",
              "      <td>54.425000</td>\n",
              "      <td>79.705882</td>\n",
              "      <td>1.013937</td>\n",
              "      <td>1.721154</td>\n",
              "      <td>0.770732</td>\n",
              "      <td>175.523810</td>\n",
              "      <td>72.656170</td>\n",
              "      <td>4.430720</td>\n",
              "      <td>133.882530</td>\n",
              "      <td>4.883030</td>\n",
              "      <td>10.652217</td>\n",
              "      <td>30.632154</td>\n",
              "      <td>7634.067703</td>\n",
              "      <td>2.983491</td>\n",
              "    </tr>\n",
              "    <tr>\n",
              "      <th>std</th>\n",
              "      <td>71.735626</td>\n",
              "      <td>72.079429</td>\n",
              "      <td>17.127132</td>\n",
              "      <td>14.932969</td>\n",
              "      <td>0.004228</td>\n",
              "      <td>1.259501</td>\n",
              "      <td>1.227592</td>\n",
              "      <td>85.065928</td>\n",
              "      <td>57.156729</td>\n",
              "      <td>6.805612</td>\n",
              "      <td>10.185319</td>\n",
              "      <td>3.542576</td>\n",
              "      <td>1.980642</td>\n",
              "      <td>7.299847</td>\n",
              "      <td>3306.096988</td>\n",
              "      <td>1.156298</td>\n",
              "    </tr>\n",
              "    <tr>\n",
              "      <th>min</th>\n",
              "      <td>0.000000</td>\n",
              "      <td>0.000000</td>\n",
              "      <td>2.000000</td>\n",
              "      <td>50.000000</td>\n",
              "      <td>1.005000</td>\n",
              "      <td>0.000000</td>\n",
              "      <td>0.000000</td>\n",
              "      <td>22.000000</td>\n",
              "      <td>1.500000</td>\n",
              "      <td>0.500000</td>\n",
              "      <td>4.500000</td>\n",
              "      <td>2.500000</td>\n",
              "      <td>3.100000</td>\n",
              "      <td>9.000000</td>\n",
              "      <td>2200.000000</td>\n",
              "      <td>1.994355</td>\n",
              "    </tr>\n",
              "    <tr>\n",
              "      <th>25%</th>\n",
              "      <td>61.750000</td>\n",
              "      <td>62.750000</td>\n",
              "      <td>47.750000</td>\n",
              "      <td>70.000000</td>\n",
              "      <td>1.010000</td>\n",
              "      <td>1.000000</td>\n",
              "      <td>0.000000</td>\n",
              "      <td>110.750000</td>\n",
              "      <td>32.000000</td>\n",
              "      <td>1.500000</td>\n",
              "      <td>133.882530</td>\n",
              "      <td>4.100000</td>\n",
              "      <td>9.800000</td>\n",
              "      <td>24.193548</td>\n",
              "      <td>5456.048387</td>\n",
              "      <td>1.994355</td>\n",
              "    </tr>\n",
              "    <tr>\n",
              "      <th>50%</th>\n",
              "      <td>123.500000</td>\n",
              "      <td>124.500000</td>\n",
              "      <td>58.500000</td>\n",
              "      <td>80.000000</td>\n",
              "      <td>1.013937</td>\n",
              "      <td>1.721154</td>\n",
              "      <td>0.000000</td>\n",
              "      <td>165.000000</td>\n",
              "      <td>55.000000</td>\n",
              "      <td>2.450000</td>\n",
              "      <td>133.882530</td>\n",
              "      <td>4.883030</td>\n",
              "      <td>10.652217</td>\n",
              "      <td>30.000000</td>\n",
              "      <td>5800.000000</td>\n",
              "      <td>2.100000</td>\n",
              "    </tr>\n",
              "    <tr>\n",
              "      <th>75%</th>\n",
              "      <td>185.250000</td>\n",
              "      <td>186.250000</td>\n",
              "      <td>65.000000</td>\n",
              "      <td>90.000000</td>\n",
              "      <td>1.015000</td>\n",
              "      <td>3.000000</td>\n",
              "      <td>0.770732</td>\n",
              "      <td>210.750000</td>\n",
              "      <td>90.000000</td>\n",
              "      <td>4.430720</td>\n",
              "      <td>137.000000</td>\n",
              "      <td>4.883030</td>\n",
              "      <td>11.800000</td>\n",
              "      <td>36.000000</td>\n",
              "      <td>9600.000000</td>\n",
              "      <td>3.900000</td>\n",
              "    </tr>\n",
              "    <tr>\n",
              "      <th>max</th>\n",
              "      <td>247.000000</td>\n",
              "      <td>249.000000</td>\n",
              "      <td>90.000000</td>\n",
              "      <td>180.000000</td>\n",
              "      <td>1.025000</td>\n",
              "      <td>5.000000</td>\n",
              "      <td>5.000000</td>\n",
              "      <td>490.000000</td>\n",
              "      <td>391.000000</td>\n",
              "      <td>76.000000</td>\n",
              "      <td>163.000000</td>\n",
              "      <td>47.000000</td>\n",
              "      <td>16.100000</td>\n",
              "      <td>52.000000</td>\n",
              "      <td>26400.000000</td>\n",
              "      <td>8.000000</td>\n",
              "    </tr>\n",
              "  </tbody>\n",
              "</table>\n",
              "</div>\n",
              "      <button class=\"colab-df-convert\" onclick=\"convertToInteractive('df-e08fae1f-6f0e-4eff-a7db-aca5b1dec959')\"\n",
              "              title=\"Convert this dataframe to an interactive table.\"\n",
              "              style=\"display:none;\">\n",
              "        \n",
              "  <svg xmlns=\"http://www.w3.org/2000/svg\" height=\"24px\"viewBox=\"0 0 24 24\"\n",
              "       width=\"24px\">\n",
              "    <path d=\"M0 0h24v24H0V0z\" fill=\"none\"/>\n",
              "    <path d=\"M18.56 5.44l.94 2.06.94-2.06 2.06-.94-2.06-.94-.94-2.06-.94 2.06-2.06.94zm-11 1L8.5 8.5l.94-2.06 2.06-.94-2.06-.94L8.5 2.5l-.94 2.06-2.06.94zm10 10l.94 2.06.94-2.06 2.06-.94-2.06-.94-.94-2.06-.94 2.06-2.06.94z\"/><path d=\"M17.41 7.96l-1.37-1.37c-.4-.4-.92-.59-1.43-.59-.52 0-1.04.2-1.43.59L10.3 9.45l-7.72 7.72c-.78.78-.78 2.05 0 2.83L4 21.41c.39.39.9.59 1.41.59.51 0 1.02-.2 1.41-.59l7.78-7.78 2.81-2.81c.8-.78.8-2.07 0-2.86zM5.41 20L4 18.59l7.72-7.72 1.47 1.35L5.41 20z\"/>\n",
              "  </svg>\n",
              "      </button>\n",
              "      \n",
              "  <style>\n",
              "    .colab-df-container {\n",
              "      display:flex;\n",
              "      flex-wrap:wrap;\n",
              "      gap: 12px;\n",
              "    }\n",
              "\n",
              "    .colab-df-convert {\n",
              "      background-color: #E8F0FE;\n",
              "      border: none;\n",
              "      border-radius: 50%;\n",
              "      cursor: pointer;\n",
              "      display: none;\n",
              "      fill: #1967D2;\n",
              "      height: 32px;\n",
              "      padding: 0 0 0 0;\n",
              "      width: 32px;\n",
              "    }\n",
              "\n",
              "    .colab-df-convert:hover {\n",
              "      background-color: #E2EBFA;\n",
              "      box-shadow: 0px 1px 2px rgba(60, 64, 67, 0.3), 0px 1px 3px 1px rgba(60, 64, 67, 0.15);\n",
              "      fill: #174EA6;\n",
              "    }\n",
              "\n",
              "    [theme=dark] .colab-df-convert {\n",
              "      background-color: #3B4455;\n",
              "      fill: #D2E3FC;\n",
              "    }\n",
              "\n",
              "    [theme=dark] .colab-df-convert:hover {\n",
              "      background-color: #434B5C;\n",
              "      box-shadow: 0px 1px 3px 1px rgba(0, 0, 0, 0.15);\n",
              "      filter: drop-shadow(0px 1px 2px rgba(0, 0, 0, 0.3));\n",
              "      fill: #FFFFFF;\n",
              "    }\n",
              "  </style>\n",
              "\n",
              "      <script>\n",
              "        const buttonEl =\n",
              "          document.querySelector('#df-e08fae1f-6f0e-4eff-a7db-aca5b1dec959 button.colab-df-convert');\n",
              "        buttonEl.style.display =\n",
              "          google.colab.kernel.accessAllowed ? 'block' : 'none';\n",
              "\n",
              "        async function convertToInteractive(key) {\n",
              "          const element = document.querySelector('#df-e08fae1f-6f0e-4eff-a7db-aca5b1dec959');\n",
              "          const dataTable =\n",
              "            await google.colab.kernel.invokeFunction('convertToInteractive',\n",
              "                                                     [key], {});\n",
              "          if (!dataTable) return;\n",
              "\n",
              "          const docLinkHtml = 'Like what you see? Visit the ' +\n",
              "            '<a target=\"_blank\" href=https://colab.research.google.com/notebooks/data_table.ipynb>data table notebook</a>'\n",
              "            + ' to learn more about interactive tables.';\n",
              "          element.innerHTML = '';\n",
              "          dataTable['output_type'] = 'display_data';\n",
              "          await google.colab.output.renderOutput(dataTable, element);\n",
              "          const docLink = document.createElement('div');\n",
              "          docLink.innerHTML = docLinkHtml;\n",
              "          element.appendChild(docLink);\n",
              "        }\n",
              "      </script>\n",
              "    </div>\n",
              "  </div>\n",
              "  "
            ]
          },
          "metadata": {},
          "execution_count": 37
        }
      ]
    },
    {
      "cell_type": "code",
      "source": [
        "ckd_dataframe.info()"
      ],
      "metadata": {
        "colab": {
          "base_uri": "https://localhost:8080/"
        },
        "id": "pbCBE0ZhsJA_",
        "outputId": "c31c40ea-142d-4afd-dc1f-ef48e2dff002"
      },
      "execution_count": 38,
      "outputs": [
        {
          "output_type": "stream",
          "name": "stdout",
          "text": [
            "<class 'pandas.core.frame.DataFrame'>\n",
            "Int64Index: 248 entries, 0 to 247\n",
            "Data columns (total 27 columns):\n",
            " #   Column          Non-Null Count  Dtype  \n",
            "---  ------          --------------  -----  \n",
            " 0   Unnamed: 0      248 non-null    int64  \n",
            " 1   id              248 non-null    int64  \n",
            " 2   age             248 non-null    float64\n",
            " 3   bp              248 non-null    float64\n",
            " 4   sg              248 non-null    float64\n",
            " 5   al              248 non-null    float64\n",
            " 6   su              248 non-null    float64\n",
            " 7   rbc             248 non-null    object \n",
            " 8   pc              193 non-null    object \n",
            " 9   pcc             248 non-null    object \n",
            " 10  ba              248 non-null    object \n",
            " 11  bgr             248 non-null    float64\n",
            " 12  bu              248 non-null    float64\n",
            " 13  sc              248 non-null    float64\n",
            " 14  sod             248 non-null    float64\n",
            " 15  pot             248 non-null    float64\n",
            " 16  hemo            248 non-null    float64\n",
            " 17  pcv             248 non-null    float64\n",
            " 18  wc              248 non-null    float64\n",
            " 19  rc              248 non-null    float64\n",
            " 20  htn             248 non-null    object \n",
            " 21  dm              248 non-null    object \n",
            " 22  cad             248 non-null    object \n",
            " 23  appet           248 non-null    object \n",
            " 24  pe              248 non-null    object \n",
            " 25  ane             248 non-null    object \n",
            " 26  classification  248 non-null    object \n",
            "dtypes: float64(14), int64(2), object(11)\n",
            "memory usage: 54.2+ KB\n"
          ]
        }
      ]
    },
    {
      "cell_type": "code",
      "source": [
        "temp = ckd_dataframe.columns.tolist()[-3:-1]\n",
        "temp.extend(ckd_dataframe.columns.tolist()[-7:-4])"
      ],
      "metadata": {
        "id": "MpuQxijZ14DA"
      },
      "execution_count": 103,
      "outputs": []
    },
    {
      "cell_type": "code",
      "source": [
        "last_few_columns = temp\n",
        "pc_pcc_ba = ['pc', 'pcc', 'ba']\n",
        "c = ckd_dataframe.loc[:, pc_pcc_ba] #pc values : abnormaml or normal and pcc ba values : present or notpresent\n",
        "c = ckd_dataframe.loc[:, last_few_columns] # values : yes or no except appet values : good or poor\n",
        "c"
      ],
      "metadata": {
        "colab": {
          "base_uri": "https://localhost:8080/",
          "height": 424
        },
        "id": "CHJw2wggx3wD",
        "outputId": "ba454eae-c683-4e61-d43a-ad38acf8279a"
      },
      "execution_count": 104,
      "outputs": [
        {
          "output_type": "execute_result",
          "data": {
            "text/plain": [
              "      pe  ane  htn   dm  cad\n",
              "0     no   no  yes  yes   no\n",
              "1     no   no   no   no   no\n",
              "2     no  yes   no  yes   no\n",
              "3    yes  yes  yes   no   no\n",
              "4     no   no   no   no   no\n",
              "..   ...  ...  ...  ...  ...\n",
              "243   no   no  yes   no  yes\n",
              "244   no  yes  yes   no  yes\n",
              "245  yes  yes   no   no   no\n",
              "246   no   no  yes  yes  yes\n",
              "247  yes  yes  yes  yes   no\n",
              "\n",
              "[248 rows x 5 columns]"
            ],
            "text/html": [
              "\n",
              "  <div id=\"df-448c0826-4ea3-4493-8ec6-0de18f13cd3b\">\n",
              "    <div class=\"colab-df-container\">\n",
              "      <div>\n",
              "<style scoped>\n",
              "    .dataframe tbody tr th:only-of-type {\n",
              "        vertical-align: middle;\n",
              "    }\n",
              "\n",
              "    .dataframe tbody tr th {\n",
              "        vertical-align: top;\n",
              "    }\n",
              "\n",
              "    .dataframe thead th {\n",
              "        text-align: right;\n",
              "    }\n",
              "</style>\n",
              "<table border=\"1\" class=\"dataframe\">\n",
              "  <thead>\n",
              "    <tr style=\"text-align: right;\">\n",
              "      <th></th>\n",
              "      <th>pe</th>\n",
              "      <th>ane</th>\n",
              "      <th>htn</th>\n",
              "      <th>dm</th>\n",
              "      <th>cad</th>\n",
              "    </tr>\n",
              "  </thead>\n",
              "  <tbody>\n",
              "    <tr>\n",
              "      <th>0</th>\n",
              "      <td>no</td>\n",
              "      <td>no</td>\n",
              "      <td>yes</td>\n",
              "      <td>yes</td>\n",
              "      <td>no</td>\n",
              "    </tr>\n",
              "    <tr>\n",
              "      <th>1</th>\n",
              "      <td>no</td>\n",
              "      <td>no</td>\n",
              "      <td>no</td>\n",
              "      <td>no</td>\n",
              "      <td>no</td>\n",
              "    </tr>\n",
              "    <tr>\n",
              "      <th>2</th>\n",
              "      <td>no</td>\n",
              "      <td>yes</td>\n",
              "      <td>no</td>\n",
              "      <td>yes</td>\n",
              "      <td>no</td>\n",
              "    </tr>\n",
              "    <tr>\n",
              "      <th>3</th>\n",
              "      <td>yes</td>\n",
              "      <td>yes</td>\n",
              "      <td>yes</td>\n",
              "      <td>no</td>\n",
              "      <td>no</td>\n",
              "    </tr>\n",
              "    <tr>\n",
              "      <th>4</th>\n",
              "      <td>no</td>\n",
              "      <td>no</td>\n",
              "      <td>no</td>\n",
              "      <td>no</td>\n",
              "      <td>no</td>\n",
              "    </tr>\n",
              "    <tr>\n",
              "      <th>...</th>\n",
              "      <td>...</td>\n",
              "      <td>...</td>\n",
              "      <td>...</td>\n",
              "      <td>...</td>\n",
              "      <td>...</td>\n",
              "    </tr>\n",
              "    <tr>\n",
              "      <th>243</th>\n",
              "      <td>no</td>\n",
              "      <td>no</td>\n",
              "      <td>yes</td>\n",
              "      <td>no</td>\n",
              "      <td>yes</td>\n",
              "    </tr>\n",
              "    <tr>\n",
              "      <th>244</th>\n",
              "      <td>no</td>\n",
              "      <td>yes</td>\n",
              "      <td>yes</td>\n",
              "      <td>no</td>\n",
              "      <td>yes</td>\n",
              "    </tr>\n",
              "    <tr>\n",
              "      <th>245</th>\n",
              "      <td>yes</td>\n",
              "      <td>yes</td>\n",
              "      <td>no</td>\n",
              "      <td>no</td>\n",
              "      <td>no</td>\n",
              "    </tr>\n",
              "    <tr>\n",
              "      <th>246</th>\n",
              "      <td>no</td>\n",
              "      <td>no</td>\n",
              "      <td>yes</td>\n",
              "      <td>yes</td>\n",
              "      <td>yes</td>\n",
              "    </tr>\n",
              "    <tr>\n",
              "      <th>247</th>\n",
              "      <td>yes</td>\n",
              "      <td>yes</td>\n",
              "      <td>yes</td>\n",
              "      <td>yes</td>\n",
              "      <td>no</td>\n",
              "    </tr>\n",
              "  </tbody>\n",
              "</table>\n",
              "<p>248 rows × 5 columns</p>\n",
              "</div>\n",
              "      <button class=\"colab-df-convert\" onclick=\"convertToInteractive('df-448c0826-4ea3-4493-8ec6-0de18f13cd3b')\"\n",
              "              title=\"Convert this dataframe to an interactive table.\"\n",
              "              style=\"display:none;\">\n",
              "        \n",
              "  <svg xmlns=\"http://www.w3.org/2000/svg\" height=\"24px\"viewBox=\"0 0 24 24\"\n",
              "       width=\"24px\">\n",
              "    <path d=\"M0 0h24v24H0V0z\" fill=\"none\"/>\n",
              "    <path d=\"M18.56 5.44l.94 2.06.94-2.06 2.06-.94-2.06-.94-.94-2.06-.94 2.06-2.06.94zm-11 1L8.5 8.5l.94-2.06 2.06-.94-2.06-.94L8.5 2.5l-.94 2.06-2.06.94zm10 10l.94 2.06.94-2.06 2.06-.94-2.06-.94-.94-2.06-.94 2.06-2.06.94z\"/><path d=\"M17.41 7.96l-1.37-1.37c-.4-.4-.92-.59-1.43-.59-.52 0-1.04.2-1.43.59L10.3 9.45l-7.72 7.72c-.78.78-.78 2.05 0 2.83L4 21.41c.39.39.9.59 1.41.59.51 0 1.02-.2 1.41-.59l7.78-7.78 2.81-2.81c.8-.78.8-2.07 0-2.86zM5.41 20L4 18.59l7.72-7.72 1.47 1.35L5.41 20z\"/>\n",
              "  </svg>\n",
              "      </button>\n",
              "      \n",
              "  <style>\n",
              "    .colab-df-container {\n",
              "      display:flex;\n",
              "      flex-wrap:wrap;\n",
              "      gap: 12px;\n",
              "    }\n",
              "\n",
              "    .colab-df-convert {\n",
              "      background-color: #E8F0FE;\n",
              "      border: none;\n",
              "      border-radius: 50%;\n",
              "      cursor: pointer;\n",
              "      display: none;\n",
              "      fill: #1967D2;\n",
              "      height: 32px;\n",
              "      padding: 0 0 0 0;\n",
              "      width: 32px;\n",
              "    }\n",
              "\n",
              "    .colab-df-convert:hover {\n",
              "      background-color: #E2EBFA;\n",
              "      box-shadow: 0px 1px 2px rgba(60, 64, 67, 0.3), 0px 1px 3px 1px rgba(60, 64, 67, 0.15);\n",
              "      fill: #174EA6;\n",
              "    }\n",
              "\n",
              "    [theme=dark] .colab-df-convert {\n",
              "      background-color: #3B4455;\n",
              "      fill: #D2E3FC;\n",
              "    }\n",
              "\n",
              "    [theme=dark] .colab-df-convert:hover {\n",
              "      background-color: #434B5C;\n",
              "      box-shadow: 0px 1px 3px 1px rgba(0, 0, 0, 0.15);\n",
              "      filter: drop-shadow(0px 1px 2px rgba(0, 0, 0, 0.3));\n",
              "      fill: #FFFFFF;\n",
              "    }\n",
              "  </style>\n",
              "\n",
              "      <script>\n",
              "        const buttonEl =\n",
              "          document.querySelector('#df-448c0826-4ea3-4493-8ec6-0de18f13cd3b button.colab-df-convert');\n",
              "        buttonEl.style.display =\n",
              "          google.colab.kernel.accessAllowed ? 'block' : 'none';\n",
              "\n",
              "        async function convertToInteractive(key) {\n",
              "          const element = document.querySelector('#df-448c0826-4ea3-4493-8ec6-0de18f13cd3b');\n",
              "          const dataTable =\n",
              "            await google.colab.kernel.invokeFunction('convertToInteractive',\n",
              "                                                     [key], {});\n",
              "          if (!dataTable) return;\n",
              "\n",
              "          const docLinkHtml = 'Like what you see? Visit the ' +\n",
              "            '<a target=\"_blank\" href=https://colab.research.google.com/notebooks/data_table.ipynb>data table notebook</a>'\n",
              "            + ' to learn more about interactive tables.';\n",
              "          element.innerHTML = '';\n",
              "          dataTable['output_type'] = 'display_data';\n",
              "          await google.colab.output.renderOutput(dataTable, element);\n",
              "          const docLink = document.createElement('div');\n",
              "          docLink.innerHTML = docLinkHtml;\n",
              "          element.appendChild(docLink);\n",
              "        }\n",
              "      </script>\n",
              "    </div>\n",
              "  </div>\n",
              "  "
            ]
          },
          "metadata": {},
          "execution_count": 104
        }
      ]
    },
    {
      "cell_type": "code",
      "source": [
        "for column in last_few_columns:\n",
        "  print(column, ckd_dataframe[column].isnull().sum())\n",
        "print('appet', ckd_dataframe['appet'].isnull().sum())\n",
        "for column in pc_pcc_ba:\n",
        "  print(column, ckd_dataframe[column].isnull().sum())"
      ],
      "metadata": {
        "colab": {
          "base_uri": "https://localhost:8080/"
        },
        "id": "edT_0eT-2hna",
        "outputId": "7e5062fb-8e1e-46b5-aa0f-7468efd031ae"
      },
      "execution_count": 105,
      "outputs": [
        {
          "output_type": "stream",
          "name": "stdout",
          "text": [
            "pe 0\n",
            "ane 0\n",
            "htn 0\n",
            "dm 0\n",
            "cad 0\n",
            "appet 0\n",
            "pc 55\n",
            "pcc 0\n",
            "ba 0\n"
          ]
        }
      ]
    },
    {
      "cell_type": "code",
      "source": [
        "import numpy as np"
      ],
      "metadata": {
        "id": "Lc87YRTv3axv"
      },
      "execution_count": 106,
      "outputs": []
    },
    {
      "cell_type": "code",
      "source": [
        "empty_rows = ckd_dataframe['pc'].isnull()\n",
        "empty_indices = empty_rows[empty_rows].index\n",
        "\n",
        "empty_indices"
      ],
      "metadata": {
        "id": "cNmMhsus24yG",
        "colab": {
          "base_uri": "https://localhost:8080/"
        },
        "outputId": "74665a91-f0d5-4adb-b4c1-28aa8e1469bf"
      },
      "execution_count": 107,
      "outputs": [
        {
          "output_type": "execute_result",
          "data": {
            "text/plain": [
              "Int64Index([  5,  13,  17,  21,  28,  30,  34,  38,  42,  49,  52,  53,  58,\n",
              "             77,  80,  81,  84,  85,  97, 103, 105, 106, 108, 116, 120, 121,\n",
              "            124, 131, 133, 137, 141, 147, 150, 159, 160, 161, 163, 164, 165,\n",
              "            171, 173, 187, 196, 200, 201, 202, 204, 207, 220, 221, 227, 229,\n",
              "            234, 236, 243],\n",
              "           dtype='int64')"
            ]
          },
          "metadata": {},
          "execution_count": 107
        }
      ]
    },
    {
      "cell_type": "code",
      "source": [
        "num_empty = len(empty_indices)\n",
        "num_abnormal = int(0.3 * num_empty)\n",
        "num_normal = int(0.7 * num_empty)\n",
        "print(num_empty, num_abnormal, num_normal)"
      ],
      "metadata": {
        "colab": {
          "base_uri": "https://localhost:8080/"
        },
        "id": "R8Bk_GYVVcvb",
        "outputId": "1c34d5a9-6f74-4d0d-f29f-63186b766809"
      },
      "execution_count": 108,
      "outputs": [
        {
          "output_type": "stream",
          "name": "stdout",
          "text": [
            "55 16 38\n"
          ]
        }
      ]
    },
    {
      "cell_type": "code",
      "source": [
        "abnormal_indices = np.random.choice(empty_indices, size=num_abnormal, replace=False)\n",
        "print('abnormal indices: ', abnormal_indices)\n",
        "normal_indices = np.random.choice(empty_indices, size=num_normal, replace=False)\n",
        "print('normal indices: ', normal_indices)\n"
      ],
      "metadata": {
        "colab": {
          "base_uri": "https://localhost:8080/"
        },
        "id": "8zG3UFMDVgxf",
        "outputId": "e5902024-0132-46e2-b17c-b49ac97f44c2"
      },
      "execution_count": 109,
      "outputs": [
        {
          "output_type": "stream",
          "name": "stdout",
          "text": [
            "abnormal indices:  [200 106 187 220 161 131 204 221 163 121 201 159  38 141  30 173]\n",
            "normal indices:  [124 236 229 227  77 133 187 147  28 160 131  42  97  30 116 120  58 103\n",
            " 243 150  85  34 196 141 108 204  52  53 201 105   5 164 207 220 106 163\n",
            "  38  80]\n"
          ]
        }
      ]
    },
    {
      "cell_type": "code",
      "source": [
        "ckd_dataframe.loc[abnormal_indices, 'rbc'] = 'abnormal'\n",
        "ckd_dataframe.loc[normal_indices, 'rbc'] = 'normal'\n"
      ],
      "metadata": {
        "id": "P0p4Ucj2ViDr"
      },
      "execution_count": 110,
      "outputs": []
    },
    {
      "cell_type": "code",
      "source": [
        "print(ckd_dataframe['rbc'].isnull().sum())\n",
        "ckd_dataframe['rbc'].fillna('normal', inplace=True)\n",
        "print(ckd_dataframe['rbc'].isnull().sum())"
      ],
      "metadata": {
        "colab": {
          "base_uri": "https://localhost:8080/"
        },
        "id": "da_mQbuNVma6",
        "outputId": "7fae2d0d-8557-4609-c8b0-9b40d63c0f7d"
      },
      "execution_count": 111,
      "outputs": [
        {
          "output_type": "stream",
          "name": "stdout",
          "text": [
            "0\n",
            "0\n"
          ]
        }
      ]
    },
    {
      "cell_type": "code",
      "source": [
        "columns_to_fill = ['bgr', 'bu', 'sc', 'sod', 'pot', 'hemo']\n",
        "\n",
        "for i, column in enumerate(columns_to_fill):\n",
        "    column_mean = not_ckd_dataframe[column].mean()\n",
        "    ckd_dataframe[column].fillna(column_mean, inplace=True)"
      ],
      "metadata": {
        "id": "9kw-J8loVvkz"
      },
      "execution_count": 112,
      "outputs": []
    },
    {
      "cell_type": "code",
      "source": [
        "columns_to_fill = ['pcv', 'wc', 'rc']\n",
        "\n",
        "for i, column in enumerate(columns_to_fill):\n",
        "\n",
        "\n",
        "    not_ckd_dataframe[column].fillna('0', inplace=True)\n"
      ],
      "metadata": {
        "id": "VYawKZHGWh33"
      },
      "execution_count": 113,
      "outputs": []
    },
    {
      "cell_type": "code",
      "source": [],
      "metadata": {
        "id": "rukZOAizZb9K"
      },
      "execution_count": 60,
      "outputs": []
    },
    {
      "cell_type": "code",
      "source": [
        "not_ckd_dataframe['pcv'] = not_ckd_dataframe['pcv'].str.replace('?', '0')\n",
        "not_ckd_dataframe['pcv'] = not_ckd_dataframe['pcv'].str.strip()\n"
      ],
      "metadata": {
        "colab": {
          "base_uri": "https://localhost:8080/"
        },
        "id": "87XqUOzRWiPB",
        "outputId": "e4d5f6c4-f2d6-4d36-d3b5-a01264e100f0"
      },
      "execution_count": 114,
      "outputs": [
        {
          "output_type": "stream",
          "name": "stderr",
          "text": [
            "<ipython-input-114-0bb0860f363a>:1: FutureWarning: The default value of regex will change from True to False in a future version. In addition, single character regular expressions will *not* be treated as literal strings when regex=True.\n",
            "  not_ckd_dataframe['pcv'] = not_ckd_dataframe['pcv'].str.replace('?', '0')\n"
          ]
        }
      ]
    },
    {
      "cell_type": "code",
      "source": [
        "not_ckd_dataframe['wc'] = not_ckd_dataframe['wc'].str.replace('?', '0')\n",
        "not_ckd_dataframe['wc'] = not_ckd_dataframe['wc'].str.strip()\n"
      ],
      "metadata": {
        "colab": {
          "base_uri": "https://localhost:8080/"
        },
        "id": "oAKTnd9RWiW7",
        "outputId": "f864f14c-4c3a-4d4f-90b1-e5fdce97539c"
      },
      "execution_count": 115,
      "outputs": [
        {
          "output_type": "stream",
          "name": "stderr",
          "text": [
            "<ipython-input-115-562abd8c27bd>:1: FutureWarning: The default value of regex will change from True to False in a future version. In addition, single character regular expressions will *not* be treated as literal strings when regex=True.\n",
            "  not_ckd_dataframe['wc'] = not_ckd_dataframe['wc'].str.replace('?', '0')\n"
          ]
        }
      ]
    },
    {
      "cell_type": "code",
      "source": [
        "not_ckd_dataframe['rc'] = not_ckd_dataframe['rc'].str.replace('?', '0')\n",
        "not_ckd_dataframe['rc'] = not_ckd_dataframe['rc'].str.strip()\n"
      ],
      "metadata": {
        "colab": {
          "base_uri": "https://localhost:8080/"
        },
        "id": "MeVb2ON7Widn",
        "outputId": "b0a4e885-f773-4ed7-9112-1f0e8b5afdc8"
      },
      "execution_count": 116,
      "outputs": [
        {
          "output_type": "stream",
          "name": "stderr",
          "text": [
            "<ipython-input-116-fa397222396a>:1: FutureWarning: The default value of regex will change from True to False in a future version. In addition, single character regular expressions will *not* be treated as literal strings when regex=True.\n",
            "  not_ckd_dataframe['rc'] = not_ckd_dataframe['rc'].str.replace('?', '0')\n"
          ]
        }
      ]
    },
    {
      "cell_type": "code",
      "source": [
        "not_ckd_dataframe['pcv'] =not_ckd_dataframe['pcv'].astype(float)"
      ],
      "metadata": {
        "id": "6QejP2MTWimN"
      },
      "execution_count": 117,
      "outputs": []
    },
    {
      "cell_type": "code",
      "source": [
        "not_ckd_dataframe['wc'] =not_ckd_dataframe['wc'].astype(float)"
      ],
      "metadata": {
        "id": "agc7MCqTWits"
      },
      "execution_count": 118,
      "outputs": []
    },
    {
      "cell_type": "code",
      "source": [
        "not_ckd_dataframe['rc'] =not_ckd_dataframe['rc'].astype(float)"
      ],
      "metadata": {
        "id": "1vVtJsPQWi0a"
      },
      "execution_count": 119,
      "outputs": []
    },
    {
      "cell_type": "code",
      "source": [
        "columns_to_fill = ['pcv', 'wc', 'rc']\n",
        "\n",
        "for i, column in enumerate(columns_to_fill):\n",
        "\n",
        "\n",
        "    not_ckd_mean = not_ckd_dataframe[column].mean()\n",
        "    not_ckd_dataframe.loc[not_ckd_dataframe[column]==0, column] = not_ckd_mean\n",
        "\n"
      ],
      "metadata": {
        "id": "yknN9v8sXS80"
      },
      "execution_count": 120,
      "outputs": []
    },
    {
      "cell_type": "code",
      "source": [
        "temp = not_ckd_dataframe.columns.tolist()[-3:-1]\n",
        "temp.extend(not_ckd_dataframe.columns.tolist()[-7:-4])"
      ],
      "metadata": {
        "id": "20mkAoiEXTGU"
      },
      "execution_count": 121,
      "outputs": []
    },
    {
      "cell_type": "code",
      "source": [
        "last_few_columns = temp\n",
        "pc_pcc_ba = ['pc', 'pcc', 'ba']\n",
        "c = not_ckd_dataframe.loc[:, pc_pcc_ba] #pc values : abnormaml or normal and pcc ba values : present or notpresent\n",
        "c = not_ckd_dataframe.loc[:, last_few_columns] # values : yes or no except appet values : good or poor\n",
        "c"
      ],
      "metadata": {
        "colab": {
          "base_uri": "https://localhost:8080/",
          "height": 424
        },
        "id": "i03sotJKXTMy",
        "outputId": "7f402a8d-7092-439f-f686-df50d4a8c4ea"
      },
      "execution_count": 122,
      "outputs": [
        {
          "output_type": "execute_result",
          "data": {
            "text/plain": [
              "     pe ane htn  dm cad\n",
              "248  no  no  no  no  no\n",
              "249  no  no  no  no  no\n",
              "250  no  no  no  no  no\n",
              "251  no  no  no  no  no\n",
              "252  no  no  no  no  no\n",
              "..   ..  ..  ..  ..  ..\n",
              "393  no  no  no  no  no\n",
              "394  no  no  no  no  no\n",
              "395  no  no  no  no  no\n",
              "396  no  no  no  no  no\n",
              "397  no  no  no  no  no\n",
              "\n",
              "[150 rows x 5 columns]"
            ],
            "text/html": [
              "\n",
              "  <div id=\"df-4c6c929e-c231-4f5f-b27c-c52450f26056\">\n",
              "    <div class=\"colab-df-container\">\n",
              "      <div>\n",
              "<style scoped>\n",
              "    .dataframe tbody tr th:only-of-type {\n",
              "        vertical-align: middle;\n",
              "    }\n",
              "\n",
              "    .dataframe tbody tr th {\n",
              "        vertical-align: top;\n",
              "    }\n",
              "\n",
              "    .dataframe thead th {\n",
              "        text-align: right;\n",
              "    }\n",
              "</style>\n",
              "<table border=\"1\" class=\"dataframe\">\n",
              "  <thead>\n",
              "    <tr style=\"text-align: right;\">\n",
              "      <th></th>\n",
              "      <th>pe</th>\n",
              "      <th>ane</th>\n",
              "      <th>htn</th>\n",
              "      <th>dm</th>\n",
              "      <th>cad</th>\n",
              "    </tr>\n",
              "  </thead>\n",
              "  <tbody>\n",
              "    <tr>\n",
              "      <th>248</th>\n",
              "      <td>no</td>\n",
              "      <td>no</td>\n",
              "      <td>no</td>\n",
              "      <td>no</td>\n",
              "      <td>no</td>\n",
              "    </tr>\n",
              "    <tr>\n",
              "      <th>249</th>\n",
              "      <td>no</td>\n",
              "      <td>no</td>\n",
              "      <td>no</td>\n",
              "      <td>no</td>\n",
              "      <td>no</td>\n",
              "    </tr>\n",
              "    <tr>\n",
              "      <th>250</th>\n",
              "      <td>no</td>\n",
              "      <td>no</td>\n",
              "      <td>no</td>\n",
              "      <td>no</td>\n",
              "      <td>no</td>\n",
              "    </tr>\n",
              "    <tr>\n",
              "      <th>251</th>\n",
              "      <td>no</td>\n",
              "      <td>no</td>\n",
              "      <td>no</td>\n",
              "      <td>no</td>\n",
              "      <td>no</td>\n",
              "    </tr>\n",
              "    <tr>\n",
              "      <th>252</th>\n",
              "      <td>no</td>\n",
              "      <td>no</td>\n",
              "      <td>no</td>\n",
              "      <td>no</td>\n",
              "      <td>no</td>\n",
              "    </tr>\n",
              "    <tr>\n",
              "      <th>...</th>\n",
              "      <td>...</td>\n",
              "      <td>...</td>\n",
              "      <td>...</td>\n",
              "      <td>...</td>\n",
              "      <td>...</td>\n",
              "    </tr>\n",
              "    <tr>\n",
              "      <th>393</th>\n",
              "      <td>no</td>\n",
              "      <td>no</td>\n",
              "      <td>no</td>\n",
              "      <td>no</td>\n",
              "      <td>no</td>\n",
              "    </tr>\n",
              "    <tr>\n",
              "      <th>394</th>\n",
              "      <td>no</td>\n",
              "      <td>no</td>\n",
              "      <td>no</td>\n",
              "      <td>no</td>\n",
              "      <td>no</td>\n",
              "    </tr>\n",
              "    <tr>\n",
              "      <th>395</th>\n",
              "      <td>no</td>\n",
              "      <td>no</td>\n",
              "      <td>no</td>\n",
              "      <td>no</td>\n",
              "      <td>no</td>\n",
              "    </tr>\n",
              "    <tr>\n",
              "      <th>396</th>\n",
              "      <td>no</td>\n",
              "      <td>no</td>\n",
              "      <td>no</td>\n",
              "      <td>no</td>\n",
              "      <td>no</td>\n",
              "    </tr>\n",
              "    <tr>\n",
              "      <th>397</th>\n",
              "      <td>no</td>\n",
              "      <td>no</td>\n",
              "      <td>no</td>\n",
              "      <td>no</td>\n",
              "      <td>no</td>\n",
              "    </tr>\n",
              "  </tbody>\n",
              "</table>\n",
              "<p>150 rows × 5 columns</p>\n",
              "</div>\n",
              "      <button class=\"colab-df-convert\" onclick=\"convertToInteractive('df-4c6c929e-c231-4f5f-b27c-c52450f26056')\"\n",
              "              title=\"Convert this dataframe to an interactive table.\"\n",
              "              style=\"display:none;\">\n",
              "        \n",
              "  <svg xmlns=\"http://www.w3.org/2000/svg\" height=\"24px\"viewBox=\"0 0 24 24\"\n",
              "       width=\"24px\">\n",
              "    <path d=\"M0 0h24v24H0V0z\" fill=\"none\"/>\n",
              "    <path d=\"M18.56 5.44l.94 2.06.94-2.06 2.06-.94-2.06-.94-.94-2.06-.94 2.06-2.06.94zm-11 1L8.5 8.5l.94-2.06 2.06-.94-2.06-.94L8.5 2.5l-.94 2.06-2.06.94zm10 10l.94 2.06.94-2.06 2.06-.94-2.06-.94-.94-2.06-.94 2.06-2.06.94z\"/><path d=\"M17.41 7.96l-1.37-1.37c-.4-.4-.92-.59-1.43-.59-.52 0-1.04.2-1.43.59L10.3 9.45l-7.72 7.72c-.78.78-.78 2.05 0 2.83L4 21.41c.39.39.9.59 1.41.59.51 0 1.02-.2 1.41-.59l7.78-7.78 2.81-2.81c.8-.78.8-2.07 0-2.86zM5.41 20L4 18.59l7.72-7.72 1.47 1.35L5.41 20z\"/>\n",
              "  </svg>\n",
              "      </button>\n",
              "      \n",
              "  <style>\n",
              "    .colab-df-container {\n",
              "      display:flex;\n",
              "      flex-wrap:wrap;\n",
              "      gap: 12px;\n",
              "    }\n",
              "\n",
              "    .colab-df-convert {\n",
              "      background-color: #E8F0FE;\n",
              "      border: none;\n",
              "      border-radius: 50%;\n",
              "      cursor: pointer;\n",
              "      display: none;\n",
              "      fill: #1967D2;\n",
              "      height: 32px;\n",
              "      padding: 0 0 0 0;\n",
              "      width: 32px;\n",
              "    }\n",
              "\n",
              "    .colab-df-convert:hover {\n",
              "      background-color: #E2EBFA;\n",
              "      box-shadow: 0px 1px 2px rgba(60, 64, 67, 0.3), 0px 1px 3px 1px rgba(60, 64, 67, 0.15);\n",
              "      fill: #174EA6;\n",
              "    }\n",
              "\n",
              "    [theme=dark] .colab-df-convert {\n",
              "      background-color: #3B4455;\n",
              "      fill: #D2E3FC;\n",
              "    }\n",
              "\n",
              "    [theme=dark] .colab-df-convert:hover {\n",
              "      background-color: #434B5C;\n",
              "      box-shadow: 0px 1px 3px 1px rgba(0, 0, 0, 0.15);\n",
              "      filter: drop-shadow(0px 1px 2px rgba(0, 0, 0, 0.3));\n",
              "      fill: #FFFFFF;\n",
              "    }\n",
              "  </style>\n",
              "\n",
              "      <script>\n",
              "        const buttonEl =\n",
              "          document.querySelector('#df-4c6c929e-c231-4f5f-b27c-c52450f26056 button.colab-df-convert');\n",
              "        buttonEl.style.display =\n",
              "          google.colab.kernel.accessAllowed ? 'block' : 'none';\n",
              "\n",
              "        async function convertToInteractive(key) {\n",
              "          const element = document.querySelector('#df-4c6c929e-c231-4f5f-b27c-c52450f26056');\n",
              "          const dataTable =\n",
              "            await google.colab.kernel.invokeFunction('convertToInteractive',\n",
              "                                                     [key], {});\n",
              "          if (!dataTable) return;\n",
              "\n",
              "          const docLinkHtml = 'Like what you see? Visit the ' +\n",
              "            '<a target=\"_blank\" href=https://colab.research.google.com/notebooks/data_table.ipynb>data table notebook</a>'\n",
              "            + ' to learn more about interactive tables.';\n",
              "          element.innerHTML = '';\n",
              "          dataTable['output_type'] = 'display_data';\n",
              "          await google.colab.output.renderOutput(dataTable, element);\n",
              "          const docLink = document.createElement('div');\n",
              "          docLink.innerHTML = docLinkHtml;\n",
              "          element.appendChild(docLink);\n",
              "        }\n",
              "      </script>\n",
              "    </div>\n",
              "  </div>\n",
              "  "
            ]
          },
          "metadata": {},
          "execution_count": 122
        }
      ]
    },
    {
      "cell_type": "code",
      "source": [
        "for column in last_few_columns:\n",
        "  print(column, not_ckd_dataframe[column].isnull().sum())\n",
        "print('appet', not_ckd_dataframe['appet'].isnull().sum())\n",
        "for column in pc_pcc_ba:\n",
        "  print(column, not_ckd_dataframe[column].isnull().sum())"
      ],
      "metadata": {
        "colab": {
          "base_uri": "https://localhost:8080/"
        },
        "id": "IY8YC3a8XTSz",
        "outputId": "cd50accc-653c-440e-e8c6-945d7ea85f82"
      },
      "execution_count": 123,
      "outputs": [
        {
          "output_type": "stream",
          "name": "stdout",
          "text": [
            "pe 1\n",
            "ane 1\n",
            "htn 2\n",
            "dm 2\n",
            "cad 2\n",
            "appet 1\n",
            "pc 9\n",
            "pcc 4\n",
            "ba 4\n"
          ]
        }
      ]
    },
    {
      "cell_type": "code",
      "source": [
        "empty_rows = not_ckd_dataframe['pc'].isnull()\n",
        "empty_indices = empty_rows[empty_rows].index\n",
        "\n",
        "empty_indices"
      ],
      "metadata": {
        "colab": {
          "base_uri": "https://localhost:8080/"
        },
        "id": "KNvLdNMXXTYr",
        "outputId": "aa0394fd-f9e3-4200-96bf-ddcf3f4cd6f5"
      },
      "execution_count": 124,
      "outputs": [
        {
          "output_type": "execute_result",
          "data": {
            "text/plain": [
              "Int64Index([266, 278, 288, 293, 307, 320, 347, 348, 379], dtype='int64')"
            ]
          },
          "metadata": {},
          "execution_count": 124
        }
      ]
    },
    {
      "cell_type": "code",
      "source": [
        "num_empty = len(empty_indices)\n",
        "num_abnormal = int(0.3 * num_empty)\n",
        "num_normal = int(0.7 * num_empty)\n",
        "print(num_empty, num_abnormal, num_normal)"
      ],
      "metadata": {
        "colab": {
          "base_uri": "https://localhost:8080/"
        },
        "id": "BUhCmSgoXTem",
        "outputId": "5d180070-dcc2-4e20-d311-7d2e5f52ae72"
      },
      "execution_count": 125,
      "outputs": [
        {
          "output_type": "stream",
          "name": "stdout",
          "text": [
            "9 2 6\n"
          ]
        }
      ]
    },
    {
      "cell_type": "code",
      "source": [
        "abnormal_indices = np.random.choice(empty_indices, size=num_abnormal, replace=False)\n",
        "print('abnormal indices: ', abnormal_indices)\n",
        "normal_indices = np.random.choice(empty_indices, size=num_normal, replace=False)\n",
        "print('normal indices: ', normal_indices)\n"
      ],
      "metadata": {
        "colab": {
          "base_uri": "https://localhost:8080/"
        },
        "id": "oPb-9YxQXTlE",
        "outputId": "14321ea4-2760-43b2-b262-cc4a188444bd"
      },
      "execution_count": 126,
      "outputs": [
        {
          "output_type": "stream",
          "name": "stdout",
          "text": [
            "abnormal indices:  [379 288]\n",
            "normal indices:  [348 266 278 288 379 320]\n"
          ]
        }
      ]
    },
    {
      "cell_type": "code",
      "source": [
        "not_ckd_dataframe.loc[abnormal_indices, 'pc'] = 'abnormal'\n",
        "not_ckd_dataframe.loc[normal_indices, 'pc'] = 'normal'\n"
      ],
      "metadata": {
        "id": "A-WBRmyKYEWk"
      },
      "execution_count": 129,
      "outputs": []
    },
    {
      "cell_type": "code",
      "source": [
        "print(not_ckd_dataframe['pc'].isnull().sum())\n",
        "not_ckd_dataframe['pc'].fillna('normal', inplace=True)\n",
        "print(not_ckd_dataframe['pc'].isnull().sum())"
      ],
      "metadata": {
        "id": "KTdkW6cRc1j9"
      },
      "execution_count": null,
      "outputs": []
    },
    {
      "cell_type": "code",
      "source": [
        "t = not_ckd_dataframe['appet'].isnull()\n",
        "tt = t[t].index\n",
        "tt\n"
      ],
      "metadata": {
        "colab": {
          "base_uri": "https://localhost:8080/"
        },
        "id": "JwncSydYdASt",
        "outputId": "6c028342-ea61-4d59-fd91-29caa9755b45"
      },
      "execution_count": 139,
      "outputs": [
        {
          "output_type": "execute_result",
          "data": {
            "text/plain": [
              "Int64Index([292], dtype='int64')"
            ]
          },
          "metadata": {},
          "execution_count": 139
        }
      ]
    },
    {
      "cell_type": "code",
      "source": [
        "not_ckd_dataframe.loc[t[t].index, 'appet'] = 'good'"
      ],
      "metadata": {
        "id": "5jZ-5e6ad4er"
      },
      "execution_count": 150,
      "outputs": []
    },
    {
      "cell_type": "code",
      "source": [
        "for i in last_few_columns:\n",
        "  t = not_ckd_dataframe[i].isnull()\n",
        "  not_ckd_dataframe.loc[t[t].index, i] = 'yes'"
      ],
      "metadata": {
        "id": "4NUVOz3yf1pX"
      },
      "execution_count": 151,
      "outputs": []
    },
    {
      "cell_type": "code",
      "source": [
        "t = not_ckd_dataframe['ba'].isnull()\n",
        "not_ckd_dataframe.loc[t[t].index, 'ba'] = 'present'\n",
        "t = not_ckd_dataframe['pcc'].isnull()\n",
        "not_ckd_dataframe.loc[t[t].index, 'pcc'] = 'present'\n"
      ],
      "metadata": {
        "id": "WWPtVuIjgjL-"
      },
      "execution_count": null,
      "outputs": []
    },
    {
      "cell_type": "code",
      "source": [
        "# merging ckd and not_ckd new dataframes\n",
        "merged_df = pd.concat([ckd_dataframe, not_ckd_dataframe], ignore_index=True)\n",
        "# check for rbc empty cells\n",
        "merged_df['rbc'].isnull().sum()"
      ],
      "metadata": {
        "colab": {
          "base_uri": "https://localhost:8080/"
        },
        "id": "7-B5qWX8gprr",
        "outputId": "567f98b9-474c-4993-e066-fd4aa0f500f8"
      },
      "execution_count": 153,
      "outputs": [
        {
          "output_type": "execute_result",
          "data": {
            "text/plain": [
              "0"
            ]
          },
          "metadata": {},
          "execution_count": 153
        }
      ]
    },
    {
      "cell_type": "code",
      "source": [
        "merged_df.to_csv('preprocessed.csv', index=False)\n",
        "merged_df.to_csv('preprocessed_with_index.csv', index=True)"
      ],
      "metadata": {
        "id": "4WO554wcg0bA"
      },
      "execution_count": 154,
      "outputs": []
    }
  ]
}